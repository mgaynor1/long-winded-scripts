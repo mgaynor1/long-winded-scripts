{
 "cells": [
  {
   "cell_type": "markdown",
   "metadata": {},
   "source": [
    "# SoilGrid Download \n",
    "\n",
    "SoilGrid v2.0 Download  \n",
    "July 2020  \n",
    "ML Gaynor  \n",
    "**With lots of help by: Mike Belitz [(Github: Mbelitz)](https://github.com/mbelitz)**"
   ]
  },
  {
   "cell_type": "markdown",
   "metadata": {},
   "source": [
    "## Set working directory\n",
    "Set the working directory, here I just checked to see where I was and made sure this is where I wanted to save the files. "
   ]
  },
  {
   "cell_type": "code",
   "execution_count": null,
   "metadata": {},
   "outputs": [],
   "source": [
    "pwd"
   ]
  },
  {
   "cell_type": "markdown",
   "metadata": {},
   "source": [
    "## Load libraries\n",
    "Import gdal, ogr, and osr from osgeo which was installed with GDAL"
   ]
  },
  {
   "cell_type": "code",
   "execution_count": null,
   "metadata": {},
   "outputs": [],
   "source": [
    "from osgeo import gdal,ogr,osr"
   ]
  },
  {
   "cell_type": "markdown",
   "metadata": {},
   "source": [
    "## Set gbbox, proj string, and res"
   ]
  },
  {
   "cell_type": "code",
   "execution_count": null,
   "metadata": {},
   "outputs": [],
   "source": [
    "#gbbox= -199479750, 8361000, 0,0 # Not Global bounding box in Homolosine xmin,ymax,  xmax,ymin\n",
    "#gbbox= -337599.000,1242500.000,152500.000,527500.000 # Africa\n",
    "gbbox= -16000000, 8361000, -7008000, 1161000\n",
    "igh='+proj=igh +lat_0=0 +lon_0=0 +datum=WGS84 +units=m +no_defs' # proj string for the Homosoline projection\n",
    "res= 1000 # Resolution of SoilGrids maps\n"
   ]
  },
  {
   "cell_type": "markdown",
   "metadata": {},
   "source": [
    "## Download from SoilGrids\n"
   ]
  },
  {
   "cell_type": "markdown",
   "metadata": {},
   "source": [
    "### nitrogen "
   ]
  },
  {
   "cell_type": "code",
   "execution_count": null,
   "metadata": {},
   "outputs": [],
   "source": [
    "kwargs = {'format': 'GTiff', 'projWin': gbbox, 'projWinSRS': igh, 'xRes': res, 'yRes': res, 'creationOptions': [\"TILED=YES\", \"COMPRESS=DEFLATE\", \"PREDICTOR=2\", \"BIGTIFF=YES\"]}\n",
    "\n",
    "ds = gdal.Translate('./North_America_nitrogen_15-30cm_1km.tif', \n",
    "                    '/vsicurl/https://files.isric.org/soilgrids/latest/data/nitrogen/nitrogen_15-30cm_mean.vrt', \n",
    "                    **kwargs)\n",
    "\n",
    "del ds"
   ]
  },
  {
   "cell_type": "markdown",
   "metadata": {},
   "source": [
    "### phh2o"
   ]
  },
  {
   "cell_type": "code",
   "execution_count": null,
   "metadata": {},
   "outputs": [],
   "source": [
    "kwargs = {'format': 'GTiff', 'projWin': gbbox, 'projWinSRS': igh, 'xRes': res, 'yRes': res, 'creationOptions': [\"TILED=YES\", \"COMPRESS=DEFLATE\", \"PREDICTOR=2\", \"BIGTIFF=YES\"]}\n",
    "\n",
    "ds = gdal.Translate('./North_America_phh2o_30-60cm_mean.tif', \n",
    "                    '/vsicurl/https://files.isric.org/soilgrids/latest/data/phh2o/phh2o_30-60cm_mean.vrt', \n",
    "                    **kwargs)\n",
    "\n",
    "del ds"
   ]
  },
  {
   "cell_type": "markdown",
   "metadata": {},
   "source": [
    "###  bdod"
   ]
  },
  {
   "cell_type": "code",
   "execution_count": null,
   "metadata": {},
   "outputs": [],
   "source": [
    "kwargs = {'format': 'GTiff', 'projWin': gbbox, 'projWinSRS': igh, 'xRes': res, 'yRes': res, 'creationOptions': [\"TILED=YES\", \"COMPRESS=DEFLATE\", \"PREDICTOR=2\", \"BIGTIFF=YES\"]}\n",
    "\n",
    "ds = gdal.Translate('./North_America_bdod_15-30cm_mean.tif', \n",
    "                    '/vsicurl/https://files.isric.org/soilgrids/latest/data/bdod/bdod_15-30cm_mean.vrt', \n",
    "                    **kwargs)\n",
    "\n",
    "del ds"
   ]
  },
  {
   "cell_type": "markdown",
   "metadata": {},
   "source": [
    "### cec"
   ]
  },
  {
   "cell_type": "code",
   "execution_count": null,
   "metadata": {},
   "outputs": [],
   "source": [
    "kwargs = {'format': 'GTiff', 'projWin': gbbox, 'projWinSRS': igh, 'xRes': res, 'yRes': res, 'creationOptions': [\"TILED=YES\", \"COMPRESS=DEFLATE\", \"PREDICTOR=2\", \"BIGTIFF=YES\"]}\n",
    "\n",
    "ds = gdal.Translate('./North_America_cec_15-30cm_mean.tif', \n",
    "                    '/vsicurl/https://files.isric.org/soilgrids/latest/data/cec/cec_15-30cm_mean.vrt', \n",
    "                    **kwargs)\n",
    "\n",
    "del ds\n"
   ]
  },
  {
   "cell_type": "markdown",
   "metadata": {},
   "source": [
    "### cfvo"
   ]
  },
  {
   "cell_type": "code",
   "execution_count": null,
   "metadata": {},
   "outputs": [],
   "source": [
    "kwargs = {'format': 'GTiff', 'projWin': gbbox, 'projWinSRS': igh, 'xRes': res, 'yRes': res, 'creationOptions': [\"TILED=YES\", \"COMPRESS=DEFLATE\", \"PREDICTOR=2\", \"BIGTIFF=YES\"]}\n",
    "\n",
    "ds = gdal.Translate('./North_America_cfvo_30-60cm_mean.vrt', \n",
    "                    '/vsicurl/https://files.isric.org/soilgrids/latest/data/cfvo/cfvo_30-60cm_mean.vrt', \n",
    "                    **kwargs)\n",
    "\n",
    "del ds\n"
   ]
  },
  {
   "cell_type": "markdown",
   "metadata": {},
   "source": [
    "### clay"
   ]
  },
  {
   "cell_type": "code",
   "execution_count": null,
   "metadata": {},
   "outputs": [],
   "source": [
    "kwargs = {'format': 'GTiff', 'projWin': gbbox, 'projWinSRS': igh, 'xRes': res, 'yRes': res, 'creationOptions': [\"TILED=YES\", \"COMPRESS=DEFLATE\", \"PREDICTOR=2\", \"BIGTIFF=YES\"]}\n",
    "\n",
    "ds = gdal.Translate('./North_America_clay_30-60cm_mean.vrt', \n",
    "                    '/vsicurl/https://files.isric.org/soilgrids/latest/data/clay/clay_30-60cm_mean.vrt', \n",
    "                    **kwargs)\n",
    "\n",
    "del ds\n"
   ]
  },
  {
   "cell_type": "markdown",
   "metadata": {},
   "source": [
    "### sand"
   ]
  },
  {
   "cell_type": "code",
   "execution_count": null,
   "metadata": {},
   "outputs": [],
   "source": [
    "kwargs = {'format': 'GTiff', 'projWin': gbbox, 'projWinSRS': igh, 'xRes': res, 'yRes': res, 'creationOptions': [\"TILED=YES\", \"COMPRESS=DEFLATE\", \"PREDICTOR=2\", \"BIGTIFF=YES\"]}\n",
    "\n",
    "ds = gdal.Translate('./North_America_sand_15-30cm_mean.vrt', \n",
    "                    '/vsicurl/https://files.isric.org/soilgrids/latest/data/sand/sand_15-30cm_mean.vrt', \n",
    "                    **kwargs)\n",
    "\n",
    "del ds"
   ]
  },
  {
   "cell_type": "markdown",
   "metadata": {},
   "source": [
    "### silt"
   ]
  },
  {
   "cell_type": "code",
   "execution_count": null,
   "metadata": {},
   "outputs": [],
   "source": [
    "kwargs = {'format': 'GTiff', 'projWin': gbbox, 'projWinSRS': igh, 'xRes': res, 'yRes': res, 'creationOptions': [\"TILED=YES\", \"COMPRESS=DEFLATE\", \"PREDICTOR=2\", \"BIGTIFF=YES\"]}\n",
    "\n",
    "ds = gdal.Translate('./North_America_silt_15-30cm_mean.vrt', \n",
    "                    '/vsicurl/https://files.isric.org/soilgrids/latest/data/silt/silt_15-30cm_mean.vrt', \n",
    "                    **kwargs)\n",
    "\n",
    "del ds"
   ]
  },
  {
   "cell_type": "markdown",
   "metadata": {},
   "source": [
    "### soc"
   ]
  },
  {
   "cell_type": "code",
   "execution_count": null,
   "metadata": {},
   "outputs": [],
   "source": [
    "kwargs = {'format': 'GTiff', 'projWin': gbbox, 'projWinSRS': igh, 'xRes': res, 'yRes': res, 'creationOptions': [\"TILED=YES\", \"COMPRESS=DEFLATE\", \"PREDICTOR=2\", \"BIGTIFF=YES\"]}\n",
    "\n",
    "ds = gdal.Translate('./North_America_soc_15-30cm_mean.vrt', \n",
    "                    '/vsicurl/https://files.isric.org/soilgrids/latest/data/soc/soc_15-30cm_mean.vrt', \n",
    "                    **kwargs)\n",
    "\n",
    "del ds"
   ]
  }
 ],
 "metadata": {
  "kernelspec": {
   "display_name": "Python 3",
   "language": "python",
   "name": "python3"
  },
  "language_info": {
   "codemirror_mode": {
    "name": "ipython",
    "version": 3
   },
   "file_extension": ".py",
   "mimetype": "text/x-python",
   "name": "python",
   "nbconvert_exporter": "python",
   "pygments_lexer": "ipython3",
   "version": "3.7.7"
  }
 },
 "nbformat": 4,
 "nbformat_minor": 2
}
